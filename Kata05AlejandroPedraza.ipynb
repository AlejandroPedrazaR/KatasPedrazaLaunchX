{
 "cells": [
  {
   "cell_type": "markdown",
   "metadata": {},
   "source": [
    "EJERCICIO 1"
   ]
  },
  {
   "cell_type": "code",
   "execution_count": null,
   "metadata": {},
   "outputs": [
    {
     "name": "stdout",
     "output_type": "stream",
     "text": [
      "La distancia entre Jupiter y la Tierra es de: 628949330 kilometros o 390577533.93 millas\n"
     ]
    }
   ],
   "source": [
    "from math import ceil, floor\n",
    "\n",
    "Tierra = int('149597870')\n",
    "Jupiter = int('778547200')\n",
    "\n",
    "Distancia= Jupiter - Tierra\n",
    "Distancia_Millas = ((Distancia) * 0.621)\n",
    "print('La distancia entre Jupiter y la Tierra es de:', Distancia, 'kilometros o', Distancia_Millas, 'millas')\n"
   ]
  },
  {
   "cell_type": "markdown",
   "metadata": {},
   "source": [
    "Ejercicio 2"
   ]
  },
  {
   "cell_type": "code",
   "execution_count": 13,
   "metadata": {},
   "outputs": [
    {
     "name": "stdout",
     "output_type": "stream",
     "text": [
      "Calcularemos la distancia de dos planetas hacia el sol\n",
      "Su distancia en kilometros es: 31799 \n",
      "Su distancia en millas es: -19747.179\n"
     ]
    }
   ],
   "source": [
    "print('Calcularemos la distancia de dos planetas hacia el sol')\n",
    "distancia_uno = 224652 #input('Introduzca la distancia del primer planeta') Coloco como comentario la entrada para poder ejecutarlo y probarlo\n",
    "distancia_dos = 256451 #input('Introduzca la distancia del segundo planeta')\n",
    "\n",
    "distancia_uno= int(distancia_uno)\n",
    "distancia_dos= int(distancia_dos)\n",
    "\n",
    "distancia= distancia_uno-distancia_dos\n",
    "distancia_millas= distancia * 0.621\n",
    "print('Su distancia en kilometros es:', (abs(distancia)), '\\nSu distancia en millas es:', distancia_millas)\n"
   ]
  }
 ],
 "metadata": {
  "interpreter": {
   "hash": "4bfea347d6b525e7533bbf4c77825643d640b0acce713893c5c1be12c87ef847"
  },
  "kernelspec": {
   "display_name": "Python 3.10.2 64-bit",
   "language": "python",
   "name": "python3"
  },
  "language_info": {
   "codemirror_mode": {
    "name": "ipython",
    "version": 3
   },
   "file_extension": ".py",
   "mimetype": "text/x-python",
   "name": "python",
   "nbconvert_exporter": "python",
   "pygments_lexer": "ipython3",
   "version": "3.10.2"
  },
  "orig_nbformat": 4
 },
 "nbformat": 4,
 "nbformat_minor": 2
}
