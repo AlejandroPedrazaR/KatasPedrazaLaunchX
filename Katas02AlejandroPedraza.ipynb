{
 "cells": [
  {
   "cell_type": "code",
   "execution_count": null,
   "metadata": {},
   "outputs": [],
   "source": [
    "Vamos a intentar subir una captura de pantalla :o \n",
    "\n",
    "\n",
    "No encontré como poner imágenes jeje pero pondré el texto de la terminal de VisualBasic a partir de los siguientes dos puntos:\n",
    "\n",
    "Windows PowerShell\n",
    "Copyright (C) Microsoft Corporation. Todos los derechos reservados.\n",
    "\n",
    "Instale la versión más reciente de PowerShell para obtener nuevas características y mejoras. https://aka.ms/PSWindows\n",
    "\n",
    "PS X:\\Personal\\Nueva carpeta (2)\\LaunchX\\LaunchX> python3 -m venv env\n",
    "PS X:\\Personal\\Nueva carpeta (2)\\LaunchX\\LaunchX> env\\Scripts\\activate\n",
    ">>\n",
    "(env) PS X:\\Personal\\Nueva carpeta (2)\\LaunchX\\LaunchX> pip freeze\n",
    "python-dateutil==2.8.2\n",
    "six==1.16.0\n",
    "(env) PS X:\\Personal\\Nueva carpeta (2)\\LaunchX\\LaunchX> pip install python-dateutil\n",
    "Requirement already satisfied: python-dateutil in x:\\personal\\nueva carpeta (2)\\launchx\\launchx\\env\\lib\\site-packages (2.8.2)\n",
    "Requirement already satisfied: six>=1.5 in x:\\personal\\nueva carpeta (2)\\launchx\\launchx\\env\\lib\\site-packages (from python-dateutil) (1.16.0)\n",
    "WARNING: You are using pip version 21.2.4; however, version 22.0.3 is available.\n",
    "You should consider upgrading via the 'X:\\Personal\\Nueva carpeta (2)\\LaunchX\\LaunchX\\env\\Scripts\\python.exe -m pip install --upgrade pip' command.\n",
    "(env) PS X:\\Personal\\Nueva carpeta (2)\\LaunchX\\LaunchX> pip freeze\n",
    "python-dateutil==2.8.2\n",
    "six==1.16.0\n",
    "(env) PS X:\\Personal\\Nueva carpeta (2)\\LaunchX\\LaunchX> deactivate\n",
    "PS X:\\Personal\\Nueva carpeta (2)\\LaunchX\\LaunchX>\n"
   ]
  },
  {
   "cell_type": "markdown",
   "metadata": {},
   "source": [
    "También lo intenté desde el cmd y quedó de la siguiente manera:\n",
    "\n",
    "Microsoft Windows [Versión 10.0.22000.493]\n",
    "(c) Microsoft Corporation. Todos los derechos reservados.\n",
    "\n",
    "C:\\Users\\Aleja>cd X:\\Personal\\Nueva carpeta (2)\\LaunchX\\LaunchX\\KatasPedraza\n",
    "\n",
    "C:\\Users\\Aleja>X:\n",
    "\n",
    "X:\\Personal\\Nueva carpeta (2)\\LaunchX\\LaunchX\\KatasPedraza>python3 -m venv env\n",
    "\n",
    "X:\\Personal\\Nueva carpeta (2)\\LaunchX\\LaunchX\\KatasPedraza>env\\Scripts\\activate\n",
    "\n",
    "(env) X:\\Personal\\Nueva carpeta (2)\\LaunchX\\LaunchX\\KatasPedraza>pip freeze\n",
    "\n",
    "(env) X:\\Personal\\Nueva carpeta (2)\\LaunchX\\LaunchX\\KatasPedraza>pip install python-dateutil\n",
    "Collecting python-dateutil\n",
    "  Using cached python_dateutil-2.8.2-py2.py3-none-any.whl (247 kB)\n",
    "Collecting six>=1.5\n",
    "  Using cached six-1.16.0-py2.py3-none-any.whl (11 kB)\n",
    "Installing collected packages: six, python-dateutil\n",
    "Successfully installed python-dateutil-2.8.2 six-1.16.0\n",
    "WARNING: You are using pip version 21.2.4; however, version 22.0.3 is available.\n",
    "You should consider upgrading via the 'X:\\Personal\\Nueva carpeta (2)\\LaunchX\\LaunchX\\KatasPedraza\\env\\Scripts\\python.exe -m pip install --upgrade pip' command.\n",
    "\n",
    "(env) X:\\Personal\\Nueva carpeta (2)\\LaunchX\\LaunchX\\KatasPedraza>pip freeze\n",
    "python-dateutil==2.8.2\n",
    "six==1.16.0\n",
    "\n",
    "(env) X:\\Personal\\Nueva carpeta (2)\\LaunchX\\LaunchX\\KatasPedraza>deactivate\n",
    "X:\\Personal\\Nueva carpeta (2)\\LaunchX\\LaunchX\\KatasPedraza>"
   ]
  },
  {
   "cell_type": "markdown",
   "metadata": {},
   "source": [
    "Debo aceptar que fue muy confusa para mí esta Kata pero me siento muy satisfecho, creo que incluso aprendí a usar la terminar, ya que en mi laptop tengo un m.2 NVME que es el C: y un HDD que es el X: y siempre me causaba mucho conflicto al querer acceder a los archivos, pero ya lo logré! muchas gracias!"
   ]
  }
 ],
 "metadata": {
  "language_info": {
   "name": "python"
  },
  "orig_nbformat": 4
 },
 "nbformat": 4,
 "nbformat_minor": 2
}
