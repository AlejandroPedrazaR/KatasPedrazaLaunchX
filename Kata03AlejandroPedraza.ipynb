{
 "cells": [
  {
   "cell_type": "markdown",
   "metadata": {},
   "source": [
    "Ejercicio 1 - Escribir declaraciones if, else, y elif"
   ]
  },
  {
   "cell_type": "code",
   "execution_count": 34,
   "metadata": {},
   "outputs": [
    {
     "name": "stdout",
     "output_type": "stream",
     "text": [
      "Cuidado! Se acerca un asteroide a una velocidad de: 49 km/s\n"
     ]
    }
   ],
   "source": [
    "#input(velocidad) / Se ejecutaría para que el usuario defina la velocidad\n",
    "velocidad = 49\n",
    "if velocidad >= 25:\n",
    "    print('Cuidado! Se acerca un asteroide a una velocidad de:' , velocidad,   'km/s')\n",
    "else:\n",
    "    print('Tenga un gran día, todo está bajo control')\n",
    "#Si la velocidad es igual o mayor a 25km/s\n",
    "    #imprimimos \"Cuidado! se acerca un asteroide a una velocidad de: ___ km/s \"\n"
   ]
  },
  {
   "cell_type": "markdown",
   "metadata": {},
   "source": [
    "Ejercicio 2"
   ]
  },
  {
   "cell_type": "code",
   "execution_count": 37,
   "metadata": {},
   "outputs": [
    {
     "name": "stdout",
     "output_type": "stream",
     "text": [
      "Hay un asteroide sobre nosotros, resguardense lo más pronto posible\n"
     ]
    }
   ],
   "source": [
    "velocidad= 19\n",
    "if velocidad >19: #Si la velocidad es mayor a 19 dará el siguiente enunciado\n",
    "    print('Cuidado, hay un asteroide aproximandose a una velocidad de:', velocidad, 'km/s')\n",
    "    if velocidad <= 18 : #Si la velocidad es menor o igual a 18 solo dará una alerta para buscar un rayo de luz\n",
    "        print('Estuvimos cerca de tener un accidente con un asteroide, por favor busquen un rayo de luz en el cielo, si logran percibirlo por favor resguardense')\n",
    "    else:\n",
    "        print('Si logran a ver un destello en el cielo podría ser un asteroide, estén atentos')\n",
    "elif velocidad == 19: #La velocidad es igual a 19 entonces dará el siguiente mensaje\n",
    "    print('Hay un asteroide sobre nosotros, resguardense lo más pronto posible') \n"
   ]
  },
  {
   "cell_type": "markdown",
   "metadata": {},
   "source": [
    "Ejercicio 3\n"
   ]
  },
  {
   "cell_type": "code",
   "execution_count": 67,
   "metadata": {},
   "outputs": [],
   "source": [
    "dimension = 20\n",
    "velocidad =20\n",
    "if dimension >= 25 and velocidad >= 25:\n",
    "    print('Cuidado con el asteroide, se dirige a nosotros con una velocidad de:', velocidad, 'km/s y  su tamaño es de:', dimension, 'metros')\n",
    "    if dimension >=30 or velocidad >= 35:\n",
    "        print('¡EVACUE AHORA MISMO, SE DIRIGE UN ASTEROIDE MUY PELIGROSO!')\n",
    "    elif dimension <=24 or velocidad <=24:\n",
    "        print('Miren arriba buscando un rayo de luz, si logra percibirlo dé aviso a las autoridades, se trata de un potencial asteroide')\n"
   ]
  }
 ],
 "metadata": {
  "language_info": {
   "name": "python"
  },
  "orig_nbformat": 4
 },
 "nbformat": 4,
 "nbformat_minor": 2
}
