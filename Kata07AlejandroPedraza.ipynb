{
 "cells": [
  {
   "cell_type": "markdown",
   "metadata": {},
   "source": [
    "Ejercicio 1: Creación de un bucle \"while\""
   ]
  },
  {
   "cell_type": "code",
   "execution_count": 3,
   "metadata": {},
   "outputs": [
    {
     "name": "stdout",
     "output_type": "stream",
     "text": [
      "Ingrese el nombre de su nuevo planeta en minúsculas.\n",
      "Para terminar ingrese la palabra \"done\"\n"
     ]
    },
    {
     "ename": "KeyboardInterrupt",
     "evalue": "",
     "output_type": "error",
     "traceback": [
      "\u001b[1;31m---------------------------------------------------------------------------\u001b[0m",
      "\u001b[1;31mKeyboardInterrupt\u001b[0m                         Traceback (most recent call last)",
      "\u001b[1;32mx:\\Personal\\Nueva carpeta (2)\\LaunchX\\LaunchX\\KatasPedraza\\Kata07AlejandroPedraza.ipynb Cell 2'\u001b[0m in \u001b[0;36m<module>\u001b[1;34m\u001b[0m\n\u001b[0;32m      <a href='vscode-notebook-cell:/x%3A/Personal/Nueva%20carpeta%20%282%29/LaunchX/LaunchX/KatasPedraza/Kata07AlejandroPedraza.ipynb#ch0000000?line=1'>2</a>\u001b[0m new_planet\u001b[39m=\u001b[39m\u001b[39m'\u001b[39m\u001b[39m'\u001b[39m\n\u001b[0;32m      <a href='vscode-notebook-cell:/x%3A/Personal/Nueva%20carpeta%20%282%29/LaunchX/LaunchX/KatasPedraza/Kata07AlejandroPedraza.ipynb#ch0000000?line=2'>3</a>\u001b[0m planets \u001b[39m=\u001b[39m []\n\u001b[1;32m----> <a href='vscode-notebook-cell:/x%3A/Personal/Nueva%20carpeta%20%282%29/LaunchX/LaunchX/KatasPedraza/Kata07AlejandroPedraza.ipynb#ch0000000?line=4'>5</a>\u001b[0m \u001b[39mwhile\u001b[39;00m new_planet\u001b[39m.\u001b[39;49mlower() \u001b[39m!=\u001b[39m \u001b[39m'\u001b[39m\u001b[39mdone\u001b[39m\u001b[39m'\u001b[39m:\n\u001b[0;32m      <a href='vscode-notebook-cell:/x%3A/Personal/Nueva%20carpeta%20%282%29/LaunchX/LaunchX/KatasPedraza/Kata07AlejandroPedraza.ipynb#ch0000000?line=5'>6</a>\u001b[0m         \u001b[39mif\u001b[39;00m new_planet:\n\u001b[0;32m      <a href='vscode-notebook-cell:/x%3A/Personal/Nueva%20carpeta%20%282%29/LaunchX/LaunchX/KatasPedraza/Kata07AlejandroPedraza.ipynb#ch0000000?line=6'>7</a>\u001b[0m             planets\u001b[39m.\u001b[39mappend(new_planet)\n",
      "\u001b[1;31mKeyboardInterrupt\u001b[0m: "
     ]
    }
   ],
   "source": [
    "print('Ingrese el nombre de su nuevo planeta en minúsculas.\\nPara terminar ingrese la palabra \"done\"')\n",
    "new_planet = ''\n",
    "planets = []\n",
    "\n",
    "while new_planet.lower() != 'done':\n",
    "        if new_planet:\n",
    "            planets.append(new_planet)\n",
    "        new_planet = input('')"
   ]
  },
  {
   "cell_type": "markdown",
   "metadata": {},
   "source": [
    "Ejercicio 2 : Complemento con For de lista de planetas"
   ]
  },
  {
   "cell_type": "code",
   "execution_count": null,
   "metadata": {},
   "outputs": [],
   "source": [
    "print('Ingrese el nombre de su nuevo planeta en minúsculas.\\nPara terminar ingrese la palabra \"done\"')\n",
    "new_planet = ''\n",
    "planets = []\n",
    "\n",
    "while new_planet.lower() != 'done':\n",
    "        if new_planet:\n",
    "            planets.append(new_planet)\n",
    "        new_planet = input('')\n",
    "        for planet in planets:\n",
    "            print(planet)"
   ]
  },
  {
   "cell_type": "code",
   "execution_count": null,
   "metadata": {},
   "outputs": [],
   "source": []
  }
 ],
 "metadata": {
  "interpreter": {
   "hash": "0522b92c79500148f7935ae4f5cc8112343c5c2698f196ddcf9e63a56e8ff281"
  },
  "kernelspec": {
   "display_name": "Python 3.9.10 ('env': venv)",
   "language": "python",
   "name": "python3"
  },
  "language_info": {
   "codemirror_mode": {
    "name": "ipython",
    "version": 3
   },
   "file_extension": ".py",
   "mimetype": "text/x-python",
   "name": "python",
   "nbconvert_exporter": "python",
   "pygments_lexer": "ipython3",
   "version": "3.9.10"
  },
  "orig_nbformat": 4
 },
 "nbformat": 4,
 "nbformat_minor": 2
}
