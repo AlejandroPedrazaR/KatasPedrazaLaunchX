{
 "cells": [
  {
   "cell_type": "markdown",
   "metadata": {},
   "source": [
    "Ejercicio 1 - Transformar celdas, nos solicita dividir el texto en cada oración, definir palabras clave, crear y actualizar un bucle. Vamos a intentarlo. "
   ]
  },
  {
   "cell_type": "code",
   "execution_count": 1,
   "metadata": {},
   "outputs": [
    {
     "data": {
      "text/plain": [
       "['Interesting facts about the Moon',\n",
       " \" The Moon is Earth's only satellite\",\n",
       " ' There are several interesting facts about the Moon and how it affects life here on Earth',\n",
       " ' \\nOn average, the Moon moves 4cm away from the Earth every year',\n",
       " ' This yearly drift is not significant enough to cause immediate effects on Earth',\n",
       " ' The highest daylight temperature of the Moon is 127 C',\n",
       " '']"
      ]
     },
     "execution_count": 1,
     "metadata": {},
     "output_type": "execute_result"
    }
   ],
   "source": [
    "text = \"\"\"Interesting facts about the Moon. The Moon is Earth's only satellite. There are several interesting facts about the Moon and how it affects life here on Earth. \n",
    "On average, the Moon moves 4cm away from the Earth every year. This yearly drift is not significant enough to cause immediate effects on Earth. The highest daylight temperature of the Moon is 127 C.\"\"\"\n",
    "text.split('.') #Lo divido por cada punto que termina una oración\n",
    "#en este punto ya vi la solución y veo que puedo definir la separación como una variable de cadena, para poder imprimir todo sobre un mismo codigo\n",
    "dividir = text.split('.')\n",
    "dividir"
   ]
  },
  {
   "cell_type": "code",
   "execution_count": 2,
   "metadata": {},
   "outputs": [
    {
     "name": "stdout",
     "output_type": "stream",
     "text": [
      "True\n",
      "True\n",
      "False\n"
     ]
    }
   ],
   "source": [
    "text = \"\"\"Interesting facts about the Moon. The Moon is Earth's only satellite. There are several interesting facts about the Moon and how it affects life here on Earth. \n",
    "On average, the Moon moves 4cm away from the Earth every year. This yearly drift is not significant enough to cause immediate effects on Earth. The highest daylight temperature of the Moon is 127 C.\"\"\"\n",
    "promedio = 'average' in text \n",
    "print(promedio)\n",
    "temperatura = 'temperature' in text\n",
    "print(temperatura)\n",
    "distancia = 'distance' in text\n",
    "print(distancia)\n",
    "#Aquí buscamos directamente las palabras average, temperatura, distance en el texto, la salida es False por lo cual no se incluyen en él.\n",
    "#Agregué un print a cada salida de busqueda ya que sino solo mostraba la ultima \"False\" de distance\n",
    "#En este punto ya vi la solución para la busqueda y la voy a poner a prueba\n",
    "key_words = [\"average\", \"temperature\", \"distance\"]\n",
    "#despues de varios intentos para el siguiente ciclo for me di cuenta que no podía encontrar mediante if /promedio,temperatura,distancia/ in /dividir/ ya que se define como un bool y no una string, entonces no puede recorrer la cadena."
   ]
  },
  {
   "cell_type": "code",
   "execution_count": 3,
   "metadata": {},
   "outputs": [
    {
     "name": "stdout",
     "output_type": "stream",
     "text": [
      " \n",
      "On average, the Moon moves 4cm away from the Earth every year\n",
      " The highest daylight temperature of the Moon is 127 C\n"
     ]
    }
   ],
   "source": [
    "text = \"\"\"Interesting facts about the Moon. The Moon is Earth's only satellite. There are several interesting facts about the Moon and how it affects life here on Earth. \n",
    "On average, the Moon moves 4cm away from the Earth every year. This yearly drift is not significant enough to cause immediate effects on Earth. The highest daylight temperature of the Moon is 127 C.\"\"\"\n",
    "key_words = [\"average\", \"temperature\", \"distance\"]\n",
    "for sentence in dividir:\n",
    "    for palabra_individual in key_words:\n",
    "        if palabra_individual in sentence:\n",
    "            print(sentence)\n",
    "            break\n",
    "        #Aqui ocupo la solucion ya que no me permitio dejar mi codigo intentando probar las variables con un if por cada renglón que imprimí, ya que estaban dadas de alta como bool y no como str\n",
    "        #Aquí cambio key_word por palabra_individual y noto que puedo realizar una busqueda clave dentro de mis busquedas claves."
   ]
  },
  {
   "cell_type": "code",
   "execution_count": 4,
   "metadata": {},
   "outputs": [
    {
     "name": "stdout",
     "output_type": "stream",
     "text": [
      "Interesting facts about the Moon. The Moon is Earth's only satellite. There are several interesting facts about the Moon and how it affects life here on Earth. \n",
      "On average, the Moon moves 4cm away from the Earth every year. This yearly drift is not significant enough to cause immediate effects on Earth. The highest daylight temperature of the Moon is 127 Celcius.\n",
      "\n",
      "\n",
      " \n",
      "On average, the Moon moves 4cm away from the Earth every year\n",
      " The highest daylight temperature of the Moon is 127 Celsius\n"
     ]
    }
   ],
   "source": [
    "text = \"\"\"Interesting facts about the Moon. The Moon is Earth's only satellite. There are several interesting facts about the Moon and how it affects life here on Earth. \n",
    "On average, the Moon moves 4cm away from the Earth every year. This yearly drift is not significant enough to cause immediate effects on Earth. The highest daylight temperature of the Moon is 127 C.\"\"\"\n",
    "text.split('.') \n",
    "\n",
    "textoCelcius= text.replace('C', 'Celcius')\n",
    "print(textoCelcius + '\\n\\n')\n",
    "#Aquí remplazo directamente la letra C por la palabra Celcius, aunque veo que la solución fue más compleja usando un ciclo for, voy a poner en práctica la solución ya que se me complicó un poco el uso del bucle\n",
    "for sentence in dividir:\n",
    "    for palabra_individual in key_words:\n",
    "        if palabra_individual in sentence:\n",
    "            print(sentence.replace(' C', ' Celsius'))\n",
    "            break\n",
    "\n",
    "        #ya le entendí Sherpaaaaa"
   ]
  },
  {
   "cell_type": "markdown",
   "metadata": {},
   "source": [
    "EJERCICIO 2 - Dar formato \"Tabular\""
   ]
  },
  {
   "cell_type": "code",
   "execution_count": 19,
   "metadata": {},
   "outputs": [
    {
     "name": "stdout",
     "output_type": "stream",
     "text": [
      "--------------------------------------------------------------------------------\n",
      "Nombre del planeta: Moon\n",
      "Gravedad en Earth: 1.6199999999999999 m/s2\n",
      "\n",
      "--------------------------------------------------------------------------------\n",
      "Nombre del planeta: Moon\n",
      "Gravedad en Earth: 1.6199999999999999 m/s2\n",
      "\n",
      "Gravedad en Earth\n",
      "--------------------------------------------------------------\n",
      "Nombre del planetaMoon\n",
      "Gravedad en Earth: 0.00162 m/s2\n",
      "Gravedad en Earth\n",
      "--------------------------------------------------------------\n",
      "Nombre del planetaMoon\n",
      "Gravedad en Earth: 1.6199999999999999 m/s2\n"
     ]
    }
   ],
   "source": [
    "# Datos con los que vas a trabajar\n",
    "name = \"Moon\"\n",
    "gravity = 0.00162 # in kms\n",
    "planet = \"Earth\"\n",
    "\n",
    "#Darle un titulo al texto\n",
    "title = f'gravedad en {planet}'\n",
    "#plantilla\n",
    "salida= f\"\"\"{'-'*80}\n",
    "Nombre del planeta: {name}\n",
    "Gravedad en {planet}: {gravity * 1000} m/s2\n",
    "\"\"\"\n",
    "#Vamos a intentar unir ambas cadenas\n",
    "union = f\"\"\"{title.title()} \n",
    "{salida}\n",
    "\"\"\"\n",
    "#imprimos la salidad de la union de cadenas\n",
    "print(salida)\n",
    "#probamos nuevos datos \n",
    "planeta = 'Marte '\n",
    "gravedad  = 0.00143\n",
    "nombre = 'Ganímedes'\n",
    "print(salida)\n",
    "nueva_union= \"\"\"Gravedad en {planet}\n",
    "--------------------------------------------------------------\n",
    "Nombre del planeta{name}\n",
    "Gravedad en {planet}: {gravity} m/s2\"\"\"\n",
    "print(nueva_union.format(name=name, planet=planet, gravity=gravity))\n",
    "print(nueva_union.format(name=name, planet=planet, gravity=gravity*1000))\n",
    "#Para ser honesto en la parte final del programa tuve que apoyarme de la solución porque me empecé a confundir ya que no me enlazaba el nombre del titulo"
   ]
  }
 ],
 "metadata": {
  "interpreter": {
   "hash": "7d8f89ab18b6e738c5a7720efeda9692d8aa3e064b8dbdcd2644008ce104a60b"
  },
  "kernelspec": {
   "display_name": "Python 3.9.10 64-bit (windows store)",
   "language": "python",
   "name": "python3"
  },
  "language_info": {
   "codemirror_mode": {
    "name": "ipython",
    "version": 3
   },
   "file_extension": ".py",
   "mimetype": "text/x-python",
   "name": "python",
   "nbconvert_exporter": "python",
   "pygments_lexer": "ipython3",
   "version": "3.9.10"
  },
  "orig_nbformat": 4
 },
 "nbformat": 4,
 "nbformat_minor": 2
}
