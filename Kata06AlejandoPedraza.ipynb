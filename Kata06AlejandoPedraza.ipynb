{
 "cells": [
  {
   "cell_type": "markdown",
   "metadata": {},
   "source": [
    "Ejercicio 1 - Crear y usar listas de Python "
   ]
  },
  {
   "cell_type": "code",
   "execution_count": 5,
   "metadata": {},
   "outputs": [
    {
     "name": "stdout",
     "output_type": "stream",
     "text": [
      "['Mercurio', 'Tierra', 'Venus', 'Marte', 'Jupiter', 'Saturno', 'Urano', 'Neptuno', 'Pluton']\n",
      "El ultimo planeta es: Pluton\n"
     ]
    }
   ],
   "source": [
    "planets = ['Mercurio', 'Tierra', 'Venus', 'Marte', 'Jupiter', 'Saturno', 'Urano', 'Neptuno']\n",
    "planets.append('Pluton')\n",
    "print(planets)\n",
    "\n",
    "print('El ultimo planeta es:', planets[-1])"
   ]
  },
  {
   "cell_type": "markdown",
   "metadata": {},
   "source": [
    "Ejercicio 2: Trabajando con datos de una lista"
   ]
  },
  {
   "cell_type": "code",
   "execution_count": 10,
   "metadata": {},
   "outputs": [
    {
     "name": "stdout",
     "output_type": "stream",
     "text": [
      "Los planetas más cercanos al sol son: Mercury\n",
      "['Venus', 'Earth', 'Mars', 'Jupiter', 'Saturn', 'Neptune']\n"
     ]
    }
   ],
   "source": [
    "# Lista de planetas\n",
    "planets = ['Mercury', 'Venus', 'Earth', 'Mars', 'Jupiter', 'Saturn', 'Neptune']\n",
    "planeta_usuario = 'Mercury' #input('Por favor escriba el nombre de un planeta en inglés y comenzando con una letra mayúscula')\n",
    "buscar_planeta= planets.index(planeta_usuario)\n",
    "print('Los planetas más cercanos al sol son: ' + planeta_usuario)\n",
    "print(planets[buscar_planeta + 1:])\n",
    "\n",
    "#Comenté la linea de input para poder probar el programa localmente."
   ]
  }
 ],
 "metadata": {
  "interpreter": {
   "hash": "0522b92c79500148f7935ae4f5cc8112343c5c2698f196ddcf9e63a56e8ff281"
  },
  "kernelspec": {
   "display_name": "Python 3.9.10 ('env': venv)",
   "language": "python",
   "name": "python3"
  },
  "language_info": {
   "codemirror_mode": {
    "name": "ipython",
    "version": 3
   },
   "file_extension": ".py",
   "mimetype": "text/x-python",
   "name": "python",
   "nbconvert_exporter": "python",
   "pygments_lexer": "ipython3",
   "version": "3.9.10"
  },
  "orig_nbformat": 4
 },
 "nbformat": 4,
 "nbformat_minor": 2
}
