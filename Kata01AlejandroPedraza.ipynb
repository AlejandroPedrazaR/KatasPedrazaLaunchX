{
 "cells": [
  {
   "cell_type": "markdown",
   "metadata": {},
   "source": [
    "Esta es la kata01 - Primeros Pasos\n",
    "Comencemos\n",
    "-En el primer codigo debemos mostrar la fecha de hoy.\n",
    "-En el segundo codigo necesitamos hacer un programa de conversión entre parsecs y años luz. un Parsecs = 3.26156 años luz"
   ]
  },
  {
   "cell_type": "code",
   "execution_count": 33,
   "metadata": {},
   "outputs": [
    {
     "name": "stdout",
     "output_type": "stream",
     "text": [
      "Today's date is:\n",
      "2022-02-17\n"
     ]
    }
   ],
   "source": [
    "from datetime import date\n",
    "\n",
    "print(\"Today's date is:\\n\" + str(date.today()))"
   ]
  },
  {
   "cell_type": "code",
   "execution_count": 36,
   "metadata": {},
   "outputs": [
    {
     "name": "stdout",
     "output_type": "stream",
     "text": [
      "Sabemos que 11 parsec, equivalen a = 35.877159999999996 años luz\n"
     ]
    }
   ],
   "source": [
    "parsec = 11 #parsec = 3.26156 años luz\n",
    "\n",
    "lightyears = 3.26156 * parsec\n",
    "\n",
    "\n",
    "print(\"Sabemos que \" + str(parsec) + \" parsec, equivalen a = \" + str(lightyears) + \" años luz\")"
   ]
  }
 ],
 "metadata": {
  "interpreter": {
   "hash": "4bfea347d6b525e7533bbf4c77825643d640b0acce713893c5c1be12c87ef847"
  },
  "kernelspec": {
   "display_name": "Python 3.10.2 64-bit",
   "language": "python",
   "name": "python3"
  },
  "language_info": {
   "codemirror_mode": {
    "name": "ipython",
    "version": 3
   },
   "file_extension": ".py",
   "mimetype": "text/x-python",
   "name": "python",
   "nbconvert_exporter": "python",
   "pygments_lexer": "ipython3",
   "version": "3.10.2"
  },
  "orig_nbformat": 4
 },
 "nbformat": 4,
 "nbformat_minor": 2
}
